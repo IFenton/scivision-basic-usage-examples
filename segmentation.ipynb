{
 "cells": [
  {
   "attachments": {},
   "cell_type": "markdown",
   "id": "211b86b9",
   "metadata": {},
   "source": [
    "# Image segmentation with scivision\n",
    "\n",
    "In this notebook, we use scivision to load several image segmentation models from [Hugging Face](https://huggingface.co/models?pipeline_tag=image-segmentation&sort=downloads) and run them on compatible datasource from the scivision catalog.\n",
    "\n",
    "The hugging face models are loaded via the hugging face segmentation plugin for scivision, which is a model entry in the scivision catalog. Click the [link to the plugin repo](https://github.com/alan-turing-institute/scivision_huggingface_segmentation) to find out which models it can be used to load. "
   ]
  },
  {
   "cell_type": "code",
   "execution_count": 1,
   "id": "3619d6fc",
   "metadata": {},
   "outputs": [],
   "source": [
    "from scivision import default_catalog, load_pretrained_model, load_dataset"
   ]
  },
  {
   "cell_type": "code",
   "execution_count": 2,
   "id": "04b223a5",
   "metadata": {},
   "outputs": [
    {
     "data": {
      "text/plain": [
       "FlexibleUrl('https://github.com/alan-turing-institute/scivision_huggingface_segmentation', scheme='https', host='github.com', tld='com', host_type='domain', path='/alan-turing-institute/scivision_huggingface_segmentation')"
      ]
     },
     "execution_count": 2,
     "metadata": {},
     "output_type": "execute_result"
    }
   ],
   "source": [
    "# Get the model repo url\n",
    "models_catalog = default_catalog.models.to_dataframe()\n",
    "model_repo = models_catalog[models_catalog.name == \"huggingface-segmentation\"].url.item()\n",
    "model_repo # Why not paste the repo link into your browser and see how it looks?"
   ]
  },
  {
   "attachments": {},
   "cell_type": "markdown",
   "id": "cea16db6-17ff-4978-8a13-91899be24b82",
   "metadata": {},
   "source": [
    "Note: the \"model_selection\" arg is not mandatory and will have a default value for any model catalog entries that have more than one model - for model catalog entries with a single model, this need not be set:"
   ]
  },
  {
   "cell_type": "code",
   "execution_count": 3,
   "id": "a5cdad18",
   "metadata": {},
   "outputs": [
    {
     "name": "stderr",
     "output_type": "stream",
     "text": [
      "/Users/ifenton/opt/anaconda3/envs/scivision_comp/lib/python3.9/site-packages/torchvision/io/image.py:13: UserWarning: Failed to load image Python extension: dlopen(/Users/ifenton/opt/anaconda3/envs/scivision_comp/lib/python3.9/site-packages/torchvision/image.so, 0x0006): Symbol not found: __ZN2at4_ops19empty_memory_format4callEN3c108ArrayRefIxEENS2_8optionalINS2_10ScalarTypeEEENS5_INS2_6LayoutEEENS5_INS2_6DeviceEEENS5_IbEENS5_INS2_12MemoryFormatEEE\n",
      "  Referenced from: <E43DB505-2225-3701-B0B2-E08388E6ACA0> /Users/ifenton/opt/anaconda3/envs/scivision_comp/lib/python3.9/site-packages/torchvision/image.so\n",
      "  Expected in:     <6DD49776-E35C-397D-832B-3A3AB2A086FB> /Users/ifenton/opt/anaconda3/envs/scivision_comp/lib/python3.9/site-packages/torch/lib/libtorch_cpu.dylib\n",
      "  warn(f\"Failed to load image Python extension: {e}\")\n",
      "/Users/ifenton/opt/anaconda3/envs/scivision_comp/lib/python3.9/site-packages/torch/functional.py:504: UserWarning: torch.meshgrid: in an upcoming release, it will be required to pass the indexing argument. (Triggered internally at /Users/runner/miniforge3/conda-bld/pytorch-recipe_1675740371165/work/aten/src/ATen/native/TensorShape.cpp:3191.)\n",
      "  return _VF.meshgrid(tensors, **kwargs)  # type: ignore[attr-defined]\n"
     ]
    }
   ],
   "source": [
    "# Note: when loading this model repo for the first time you'll need to add the allow_install=True flag\n",
    "facebook_model = load_pretrained_model(model_repo, model_selection='facebook_detr_resnet_50_panoptic', allow_install=True)\n",
    "nvidia_model = load_pretrained_model(model_repo, model_selection='nvidia_segformer_b5_finetuned_ade_640_640')\n",
    "microsoft_model = load_pretrained_model(model_repo, model_selection='microsoft_beit_large_finetuned_ade_640_640')"
   ]
  },
  {
   "cell_type": "code",
   "execution_count": 4,
   "id": "ff6791ef",
   "metadata": {},
   "outputs": [
    {
     "data": {
      "text/html": [
       "<div>\n",
       "<style scoped>\n",
       "    .dataframe tbody tr th:only-of-type {\n",
       "        vertical-align: middle;\n",
       "    }\n",
       "\n",
       "    .dataframe tbody tr th {\n",
       "        vertical-align: top;\n",
       "    }\n",
       "\n",
       "    .dataframe thead th {\n",
       "        text-align: right;\n",
       "    }\n",
       "</style>\n",
       "<table border=\"1\" class=\"dataframe\">\n",
       "  <thead>\n",
       "    <tr style=\"text-align: right;\">\n",
       "      <th></th>\n",
       "      <th>name</th>\n",
       "      <th>description</th>\n",
       "      <th>tasks</th>\n",
       "      <th>labels_provided</th>\n",
       "      <th>domains</th>\n",
       "      <th>url</th>\n",
       "      <th>format</th>\n",
       "      <th>institution</th>\n",
       "      <th>tags</th>\n",
       "    </tr>\n",
       "  </thead>\n",
       "  <tbody>\n",
       "    <tr>\n",
       "      <th>0</th>\n",
       "      <td>stardist-cell-nuclei-2D</td>\n",
       "      <td>Cell microscopy test dataset for detection and...</td>\n",
       "      <td>(TaskEnum.segmentation, TaskEnum.object_detect...</td>\n",
       "      <td>True</td>\n",
       "      <td>(optical-microscopy,)</td>\n",
       "      <td>https://github.com/stardist/stardist/releases/...</td>\n",
       "      <td>image</td>\n",
       "      <td>(epfl,)</td>\n",
       "      <td>(help-needed, 3D, cell, cell-counting, biology...</td>\n",
       "    </tr>\n",
       "    <tr>\n",
       "      <th>1</th>\n",
       "      <td>oppd-seedlings</td>\n",
       "      <td>The Open Plant Phenotyping Database [OPPD] is ...</td>\n",
       "      <td>(TaskEnum.segmentation, TaskEnum.thresholding,...</td>\n",
       "      <td>True</td>\n",
       "      <td>(multispectral, hyperspectral)</td>\n",
       "      <td>https://github.com/alan-turing-institute/oppd-...</td>\n",
       "      <td>image</td>\n",
       "      <td>(Aarhus University,)</td>\n",
       "      <td>(help-needed, 2D, plant-phenotyping, agricultu...</td>\n",
       "    </tr>\n",
       "    <tr>\n",
       "      <th>2</th>\n",
       "      <td>scivision-test-data</td>\n",
       "      <td>Test data comprised of individual images inclu...</td>\n",
       "      <td>(TaskEnum.segmentation, TaskEnum.object_detect...</td>\n",
       "      <td>True</td>\n",
       "      <td>(computer-vision,)</td>\n",
       "      <td>https://github.com/alan-turing-institute/scivi...</td>\n",
       "      <td>image</td>\n",
       "      <td>(Wikipedia by Erik Veland,)</td>\n",
       "      <td>(demo,)</td>\n",
       "    </tr>\n",
       "    <tr>\n",
       "      <th>4</th>\n",
       "      <td>coastal-edges</td>\n",
       "      <td>Sample dataset of satellite RGB imagery over t...</td>\n",
       "      <td>(TaskEnum.segmentation, TaskEnum.classificiation)</td>\n",
       "      <td>False</td>\n",
       "      <td>(computer-vision, earth-observation, ecology)</td>\n",
       "      <td>https://github.com/MartinSJRogers/VEdge_Detect...</td>\n",
       "      <td>image</td>\n",
       "      <td>(Cambridge University,)</td>\n",
       "      <td>(2D, satellite, remote-sensing, ecology, envir...</td>\n",
       "    </tr>\n",
       "    <tr>\n",
       "      <th>5</th>\n",
       "      <td>treecrowns</td>\n",
       "      <td>Sample dataset of drone RGB imagery over Sepil...</td>\n",
       "      <td>(TaskEnum.segmentation, TaskEnum.object_detect...</td>\n",
       "      <td>False</td>\n",
       "      <td>(computer-vision, earth-observation, ecology)</td>\n",
       "      <td>https://github.com/shmh40/detectreeRGB-treecro...</td>\n",
       "      <td>image</td>\n",
       "      <td>(Cambridge University,)</td>\n",
       "      <td>(2D, drone, satellite, aerial, remote-sensing,...</td>\n",
       "    </tr>\n",
       "    <tr>\n",
       "      <th>6</th>\n",
       "      <td>sentinel2_stac</td>\n",
       "      <td>Data plugin for accessing Sentinel-2 Cloud-Opt...</td>\n",
       "      <td>(TaskEnum.segmentation, TaskEnum.classificiation)</td>\n",
       "      <td>False</td>\n",
       "      <td>(computer-vision, earth-observation, ecology)</td>\n",
       "      <td>https://github.com/alan-turing-institute/scivi...</td>\n",
       "      <td>image</td>\n",
       "      <td>(The Alan Turing Institute,)</td>\n",
       "      <td>(satellite, aerial, remote-sensing, ecology, e...</td>\n",
       "    </tr>\n",
       "    <tr>\n",
       "      <th>9</th>\n",
       "      <td>Parakeet</td>\n",
       "      <td>Synthetic cryoEM data from Parakeet</td>\n",
       "      <td>(TaskEnum.segmentation, TaskEnum.thresholding,...</td>\n",
       "      <td>False</td>\n",
       "      <td>None</td>\n",
       "      <td>https://github.com/rosalindfranklininstitute/s...</td>\n",
       "      <td>image</td>\n",
       "      <td>(Rosalind Franklin Institute,)</td>\n",
       "      <td>(CryoEM,)</td>\n",
       "    </tr>\n",
       "  </tbody>\n",
       "</table>\n",
       "</div>"
      ],
      "text/plain": [
       "                      name                                        description  \\\n",
       "0  stardist-cell-nuclei-2D  Cell microscopy test dataset for detection and...   \n",
       "1           oppd-seedlings  The Open Plant Phenotyping Database [OPPD] is ...   \n",
       "2      scivision-test-data  Test data comprised of individual images inclu...   \n",
       "4            coastal-edges  Sample dataset of satellite RGB imagery over t...   \n",
       "5               treecrowns  Sample dataset of drone RGB imagery over Sepil...   \n",
       "6           sentinel2_stac  Data plugin for accessing Sentinel-2 Cloud-Opt...   \n",
       "9                 Parakeet                Synthetic cryoEM data from Parakeet   \n",
       "\n",
       "                                               tasks  labels_provided  \\\n",
       "0  (TaskEnum.segmentation, TaskEnum.object_detect...             True   \n",
       "1  (TaskEnum.segmentation, TaskEnum.thresholding,...             True   \n",
       "2  (TaskEnum.segmentation, TaskEnum.object_detect...             True   \n",
       "4  (TaskEnum.segmentation, TaskEnum.classificiation)            False   \n",
       "5  (TaskEnum.segmentation, TaskEnum.object_detect...            False   \n",
       "6  (TaskEnum.segmentation, TaskEnum.classificiation)            False   \n",
       "9  (TaskEnum.segmentation, TaskEnum.thresholding,...            False   \n",
       "\n",
       "                                         domains  \\\n",
       "0                          (optical-microscopy,)   \n",
       "1                 (multispectral, hyperspectral)   \n",
       "2                             (computer-vision,)   \n",
       "4  (computer-vision, earth-observation, ecology)   \n",
       "5  (computer-vision, earth-observation, ecology)   \n",
       "6  (computer-vision, earth-observation, ecology)   \n",
       "9                                           None   \n",
       "\n",
       "                                                 url format  \\\n",
       "0  https://github.com/stardist/stardist/releases/...  image   \n",
       "1  https://github.com/alan-turing-institute/oppd-...  image   \n",
       "2  https://github.com/alan-turing-institute/scivi...  image   \n",
       "4  https://github.com/MartinSJRogers/VEdge_Detect...  image   \n",
       "5  https://github.com/shmh40/detectreeRGB-treecro...  image   \n",
       "6  https://github.com/alan-turing-institute/scivi...  image   \n",
       "9  https://github.com/rosalindfranklininstitute/s...  image   \n",
       "\n",
       "                      institution  \\\n",
       "0                         (epfl,)   \n",
       "1            (Aarhus University,)   \n",
       "2     (Wikipedia by Erik Veland,)   \n",
       "4         (Cambridge University,)   \n",
       "5         (Cambridge University,)   \n",
       "6    (The Alan Turing Institute,)   \n",
       "9  (Rosalind Franklin Institute,)   \n",
       "\n",
       "                                                tags  \n",
       "0  (help-needed, 3D, cell, cell-counting, biology...  \n",
       "1  (help-needed, 2D, plant-phenotyping, agricultu...  \n",
       "2                                            (demo,)  \n",
       "4  (2D, satellite, remote-sensing, ecology, envir...  \n",
       "5  (2D, drone, satellite, aerial, remote-sensing,...  \n",
       "6  (satellite, aerial, remote-sensing, ecology, e...  \n",
       "9                                          (CryoEM,)  "
      ]
     },
     "execution_count": 4,
     "metadata": {},
     "output_type": "execute_result"
    }
   ],
   "source": [
    "compatible_datasources = default_catalog.compatible_datasources(\"huggingface-segmentation\").to_dataframe()\n",
    "compatible_datasources"
   ]
  },
  {
   "cell_type": "code",
   "execution_count": 5,
   "id": "a37e15df",
   "metadata": {},
   "outputs": [
    {
     "data": {
      "text/html": [
       "<div>\n",
       "<style scoped>\n",
       "    .dataframe tbody tr th:only-of-type {\n",
       "        vertical-align: middle;\n",
       "    }\n",
       "\n",
       "    .dataframe tbody tr th {\n",
       "        vertical-align: top;\n",
       "    }\n",
       "\n",
       "    .dataframe thead th {\n",
       "        text-align: right;\n",
       "    }\n",
       "</style>\n",
       "<table border=\"1\" class=\"dataframe\">\n",
       "  <thead>\n",
       "    <tr style=\"text-align: right;\">\n",
       "      <th></th>\n",
       "      <th>name</th>\n",
       "      <th>description</th>\n",
       "      <th>tasks</th>\n",
       "      <th>labels_provided</th>\n",
       "      <th>domains</th>\n",
       "      <th>url</th>\n",
       "      <th>format</th>\n",
       "      <th>institution</th>\n",
       "      <th>tags</th>\n",
       "    </tr>\n",
       "  </thead>\n",
       "  <tbody>\n",
       "    <tr>\n",
       "      <th>4</th>\n",
       "      <td>coastal-edges</td>\n",
       "      <td>Sample dataset of satellite RGB imagery over t...</td>\n",
       "      <td>(TaskEnum.segmentation, TaskEnum.classificiation)</td>\n",
       "      <td>False</td>\n",
       "      <td>(computer-vision, earth-observation, ecology)</td>\n",
       "      <td>https://github.com/MartinSJRogers/VEdge_Detect...</td>\n",
       "      <td>image</td>\n",
       "      <td>(Cambridge University,)</td>\n",
       "      <td>(2D, satellite, remote-sensing, ecology, envir...</td>\n",
       "    </tr>\n",
       "  </tbody>\n",
       "</table>\n",
       "</div>"
      ],
      "text/plain": [
       "            name                                        description  \\\n",
       "4  coastal-edges  Sample dataset of satellite RGB imagery over t...   \n",
       "\n",
       "                                               tasks  labels_provided  \\\n",
       "4  (TaskEnum.segmentation, TaskEnum.classificiation)            False   \n",
       "\n",
       "                                         domains  \\\n",
       "4  (computer-vision, earth-observation, ecology)   \n",
       "\n",
       "                                                 url format  \\\n",
       "4  https://github.com/MartinSJRogers/VEdge_Detect...  image   \n",
       "\n",
       "               institution                                               tags  \n",
       "4  (Cambridge University,)  (2D, satellite, remote-sensing, ecology, envir...  "
      ]
     },
     "execution_count": 5,
     "metadata": {},
     "output_type": "execute_result"
    }
   ],
   "source": [
    "target_datasource = compatible_datasources.loc[compatible_datasources['name'] == 'coastal-edges']\n",
    "target_datasource"
   ]
  },
  {
   "cell_type": "code",
   "execution_count": 6,
   "id": "9a96b9c7",
   "metadata": {},
   "outputs": [
    {
     "data": {
      "text/plain": [
       "FlexibleUrl('https://github.com/MartinSJRogers/VEdge_Detector_scivision', scheme='https', host='github.com', tld='com', host_type='domain', path='/MartinSJRogers/VEdge_Detector_scivision')"
      ]
     },
     "execution_count": 6,
     "metadata": {},
     "output_type": "execute_result"
    }
   ],
   "source": [
    "target_datasource.url.item()"
   ]
  },
  {
   "cell_type": "code",
   "execution_count": 7,
   "id": "7e26adea",
   "metadata": {},
   "outputs": [
    {
     "name": "stdout",
     "output_type": "stream",
     "text": [
      "['sample_image']\n"
     ]
    }
   ],
   "source": [
    "cat = load_dataset(target_datasource.url.item()) \n",
    "print(list(cat))"
   ]
  },
  {
   "cell_type": "code",
   "execution_count": 8,
   "id": "b8364e57",
   "metadata": {},
   "outputs": [
    {
     "name": "stderr",
     "output_type": "stream",
     "text": [
      "/Users/ifenton/opt/anaconda3/envs/scivision_comp/lib/python3.9/site-packages/xarray/core/dataarray.py:1323: FutureWarning: None value for 'chunks' is deprecated. It will raise an error in the future. Use instead '{}'\n",
      "  warnings.warn(\n"
     ]
    }
   ],
   "source": [
    "sample_image = cat.sample_image(sample_image='winterton').to_dask()"
   ]
  },
  {
   "cell_type": "code",
   "execution_count": 9,
   "id": "aa65388d",
   "metadata": {},
   "outputs": [],
   "source": [
    "import matplotlib.pyplot as plt"
   ]
  },
  {
   "cell_type": "code",
   "execution_count": 10,
   "id": "ecf789a6",
   "metadata": {},
   "outputs": [
    {
     "data": {
      "text/plain": [
       "<matplotlib.image.AxesImage at 0x1a874b730>"
      ]
     },
     "execution_count": 10,
     "metadata": {},
     "output_type": "execute_result"
    },
    {
     "data": {
      "image/png": "[encoded data removed]",
      "text/plain": [
       "<Figure size 640x480 with 1 Axes>"
      ]
     },
     "metadata": {},
     "output_type": "display_data"
    }
   ],
   "source": [
    "plt.imshow(sample_image)"
   ]
  },
  {
   "cell_type": "code",
   "execution_count": 11,
   "id": "91cbb508",
   "metadata": {},
   "outputs": [],
   "source": [
    "fb_outputs = facebook_model.predict(sample_image)"
   ]
  },
  {
   "cell_type": "code",
   "execution_count": 12,
   "id": "ba9ffc29",
   "metadata": {},
   "outputs": [],
   "source": [
    "nv_outputs = nvidia_model.predict(sample_image)"
   ]
  },
  {
   "cell_type": "code",
   "execution_count": 13,
   "id": "70392415",
   "metadata": {},
   "outputs": [
    {
     "name": "stderr",
     "output_type": "stream",
     "text": [
      "[W NNPACK.cpp:53] Could not initialize NNPACK! Reason: Unsupported hardware.\n"
     ]
    }
   ],
   "source": [
    "ms_outputs = microsoft_model.predict(sample_image)"
   ]
  },
  {
   "cell_type": "code",
   "execution_count": 14,
   "id": "e97a4e24",
   "metadata": {},
   "outputs": [
    {
     "data": {
      "text/plain": [
       "DetrSegmentationOutput(loss=None, loss_dict=None, logits=tensor([[[-16.1586,  -3.3672,  -4.1644,  ..., -17.0871, -15.6756,  12.8223],\n",
       "         [-16.5063,  -1.8943,  -6.6391,  ..., -16.9658, -15.8934,  13.2566],\n",
       "         [-17.0935,  -1.6594,  -7.9489,  ..., -17.1152, -16.2002,  12.4349],\n",
       "         ...,\n",
       "         [-15.8920,  -2.7268,  -6.5317,  ..., -16.1740, -14.9697,  12.4627],\n",
       "         [-16.5666,  -2.2675,  -7.3229,  ..., -16.3659, -15.4280,  12.2402],\n",
       "         [-16.6542,  -2.9925,  -5.3223,  ..., -17.5232, -16.2469,  13.1812]]],\n",
       "       grad_fn=<ViewBackward0>), pred_boxes=tensor([[[0.5000, 0.3925, 0.9974, 0.7769],\n",
       "         [0.4654, 0.5027, 0.2165, 0.5497],\n",
       "         [0.7013, 0.9085, 0.1227, 0.1148],\n",
       "         [0.5000, 0.4100, 0.9973, 0.8204],\n",
       "         [0.8001, 0.7535, 0.0770, 0.0693],\n",
       "         [0.0245, 0.1087, 0.0473, 0.0857],\n",
       "         [0.5854, 0.8916, 0.2023, 0.1959],\n",
       "         [0.2507, 0.7114, 0.1230, 0.1409],\n",
       "         [0.0273, 0.8412, 0.0518, 0.1652],\n",
       "         [0.1532, 0.7404, 0.0795, 0.0736],\n",
       "         [0.7124, 0.7607, 0.1352, 0.1265],\n",
       "         [0.4999, 0.4991, 0.9980, 0.9984],\n",
       "         [0.3623, 0.7414, 0.2672, 0.2054],\n",
       "         [0.1477, 0.7246, 0.0862, 0.0893],\n",
       "         [0.8206, 0.7627, 0.0766, 0.0617],\n",
       "         [0.1358, 0.9135, 0.2590, 0.1637],\n",
       "         [0.5886, 0.5036, 0.8248, 0.9920],\n",
       "         [0.4139, 0.4834, 0.8527, 0.9848],\n",
       "         [0.5000, 0.6522, 0.9976, 0.7418],\n",
       "         [0.7355, 0.9127, 0.5252, 0.1714],\n",
       "         [0.5235, 0.7542, 0.1351, 0.1162],\n",
       "         [0.1915, 0.7423, 0.0957, 0.0852],\n",
       "         [0.4974, 0.5698, 0.3265, 0.5439],\n",
       "         [0.2218, 0.5177, 0.4435, 0.9708],\n",
       "         [0.9728, 0.8582, 0.0535, 0.1901],\n",
       "         [0.1991, 0.7149, 0.1775, 0.1564],\n",
       "         [0.3820, 0.7078, 0.1293, 0.1456],\n",
       "         [0.2965, 0.4756, 0.5855, 0.8945],\n",
       "         [0.9765, 0.7388, 0.0461, 0.1201],\n",
       "         [0.2343, 0.7284, 0.0983, 0.0968],\n",
       "         [0.7274, 0.8609, 0.5041, 0.2755],\n",
       "         [0.6920, 0.7205, 0.1222, 0.1472],\n",
       "         [0.5000, 0.2164, 0.9976, 0.4458],\n",
       "         [0.5003, 0.0320, 0.9978, 0.0650],\n",
       "         [0.0307, 0.7261, 0.0551, 0.0925],\n",
       "         [0.7199, 0.1085, 0.3111, 0.1753],\n",
       "         [0.5000, 0.4277, 0.9975, 0.8533],\n",
       "         [0.9613, 0.8054, 0.0758, 0.3596],\n",
       "         [0.1587, 0.7586, 0.0773, 0.0623],\n",
       "         [0.7495, 0.5067, 0.4862, 0.9923],\n",
       "         [0.9722, 0.6707, 0.0544, 0.1119],\n",
       "         [0.4828, 0.9614, 0.1399, 0.0732],\n",
       "         [0.5196, 0.7825, 0.0923, 0.0749],\n",
       "         [0.1815, 0.7243, 0.0994, 0.0986],\n",
       "         [0.7268, 0.4183, 0.5200, 0.8075],\n",
       "         [0.4999, 0.8298, 0.9976, 0.3414],\n",
       "         [0.8106, 0.7275, 0.0923, 0.0953],\n",
       "         [0.5533, 0.7630, 0.0960, 0.0856],\n",
       "         [0.5020, 0.7522, 0.1000, 0.0885],\n",
       "         [0.8328, 0.1059, 0.2173, 0.1836],\n",
       "         [0.0285, 0.7430, 0.0526, 0.1671],\n",
       "         [0.3183, 0.8881, 0.1040, 0.1176],\n",
       "         [0.9626, 0.5171, 0.0733, 0.4489],\n",
       "         [0.8593, 0.7417, 0.2736, 0.2145],\n",
       "         [0.3442, 0.5894, 0.6798, 0.8703],\n",
       "         [0.1388, 0.4609, 0.2659, 0.6886],\n",
       "         [0.9059, 0.7607, 0.0793, 0.0848],\n",
       "         [0.7627, 0.7275, 0.1138, 0.1304],\n",
       "         [0.6936, 0.9713, 0.1780, 0.0532],\n",
       "         [0.4999, 0.4991, 0.9978, 0.9976],\n",
       "         [0.0447, 0.5892, 0.0853, 0.7326],\n",
       "         [0.5195, 0.7287, 0.1289, 0.1266],\n",
       "         [0.5000, 0.3987, 0.9975, 0.7905],\n",
       "         [0.9367, 0.9192, 0.1085, 0.1299],\n",
       "         [0.6128, 0.4651, 0.7397, 0.9304],\n",
       "         [0.2612, 0.8250, 0.1394, 0.1431],\n",
       "         [0.4993, 0.4480, 0.9974, 0.9114],\n",
       "         [0.4999, 0.8936, 0.9976, 0.2112],\n",
       "         [0.6599, 0.8783, 0.1554, 0.1851],\n",
       "         [0.4999, 0.9388, 0.9979, 0.1200],\n",
       "         [0.1893, 0.7538, 0.0796, 0.0694],\n",
       "         [0.9502, 0.8513, 0.0973, 0.2837],\n",
       "         [0.0380, 0.8531, 0.0728, 0.2558],\n",
       "         [0.4744, 0.7678, 0.0920, 0.0790],\n",
       "         [0.3508, 0.5024, 0.6902, 0.9891],\n",
       "         [0.4999, 0.4175, 0.9974, 0.8332],\n",
       "         [0.6669, 0.7370, 0.2601, 0.1883],\n",
       "         [0.2736, 0.9388, 0.5376, 0.1197],\n",
       "         [0.4999, 0.4556, 0.9975, 0.9332],\n",
       "         [0.9626, 0.7164, 0.0717, 0.1289],\n",
       "         [0.6060, 0.9756, 0.2468, 0.0452],\n",
       "         [0.8310, 0.4929, 0.3301, 0.9863],\n",
       "         [0.5000, 0.6283, 0.9979, 0.7370],\n",
       "         [0.0343, 0.8351, 0.0648, 0.2407],\n",
       "         [0.5000, 0.8880, 0.9977, 0.2230],\n",
       "         [0.8264, 0.7458, 0.0872, 0.0758],\n",
       "         [0.1925, 0.8308, 0.0850, 0.0837],\n",
       "         [0.5601, 0.7324, 0.1219, 0.1199],\n",
       "         [0.8853, 0.8303, 0.2217, 0.2679],\n",
       "         [0.6119, 0.4578, 0.6067, 0.8849],\n",
       "         [0.1030, 0.8271, 0.1973, 0.2514],\n",
       "         [0.0252, 0.7640, 0.0471, 0.1129],\n",
       "         [0.1930, 0.8609, 0.1515, 0.1685],\n",
       "         [0.7647, 0.9496, 0.1204, 0.0972],\n",
       "         [0.0300, 0.8018, 0.0571, 0.1392],\n",
       "         [0.8403, 0.9145, 0.3177, 0.1675],\n",
       "         [0.0412, 0.9324, 0.0754, 0.0736],\n",
       "         [0.9038, 0.7202, 0.1355, 0.1238],\n",
       "         [0.9725, 0.8140, 0.0544, 0.3164],\n",
       "         [0.5002, 0.4032, 0.9973, 0.8037]]], grad_fn=<SigmoidBackward0>), pred_masks=tensor([[[[-1.8610e-02,  8.3825e-01,  1.1107e+00,  ..., -2.7674e-01,\n",
       "            4.9160e-01,  1.0167e+00],\n",
       "          [-2.5259e-01,  5.0092e-01,  1.0753e+00,  ..., -2.0456e-01,\n",
       "            1.8004e+00,  2.1728e+00],\n",
       "          [-4.6745e-01,  2.1138e-01,  7.5680e-01,  ..., -1.8726e-01,\n",
       "            2.6773e+00,  2.0896e+00],\n",
       "          ...,\n",
       "          [-1.1994e+00, -7.4014e-01, -5.3590e-01,  ...,  3.7131e-02,\n",
       "            1.2322e+00,  1.5187e+00],\n",
       "          [-3.6895e-01,  1.2005e-01,  2.7941e-02,  ...,  4.4481e-01,\n",
       "            1.7173e+00,  1.2378e+00],\n",
       "          [-3.6983e-01,  7.6430e-02,  8.5202e-02,  ...,  6.2370e-01,\n",
       "            1.2743e+00,  8.3671e-01]],\n",
       "\n",
       "         [[-1.6994e+01, -2.4142e+01, -2.8945e+01,  ..., -2.3958e+01,\n",
       "           -1.7948e+01, -1.1211e+01],\n",
       "          [-2.8006e+01, -3.9885e+01, -4.5281e+01,  ..., -2.7981e+01,\n",
       "           -2.1931e+01, -1.5768e+01],\n",
       "          [-3.3442e+01, -4.6339e+01, -5.0538e+01,  ..., -2.5022e+01,\n",
       "           -2.0126e+01, -1.5725e+01],\n",
       "          ...,\n",
       "          [-4.6394e+00, -4.7710e+00, -3.3617e+00,  ...,  1.5665e+00,\n",
       "            3.0127e+00,  1.1104e+00],\n",
       "          [-2.2243e+00, -1.6686e+00, -3.0511e-01,  ...,  2.2428e+00,\n",
       "            3.5658e+00,  1.4401e+00],\n",
       "          [-1.6755e+00, -1.2704e+00, -1.1135e-01,  ...,  5.7225e-01,\n",
       "            1.7249e+00,  4.1625e-01]],\n",
       "\n",
       "         [[-1.5524e+01, -2.3760e+01, -3.0200e+01,  ..., -2.4779e+01,\n",
       "           -1.8383e+01, -1.1567e+01],\n",
       "          [-2.7119e+01, -4.0487e+01, -4.7883e+01,  ..., -3.1184e+01,\n",
       "           -2.4831e+01, -1.7804e+01],\n",
       "          [-3.3637e+01, -4.7977e+01, -5.4222e+01,  ..., -2.5551e+01,\n",
       "           -2.0042e+01, -1.6359e+01],\n",
       "          ...,\n",
       "          [-1.3127e+00, -3.8286e-01, -3.5057e-01,  ...,  2.6796e+00,\n",
       "            4.4754e+00,  2.4961e+00],\n",
       "          [ 1.3141e+00,  4.1591e+00,  5.3995e+00,  ...,  5.8385e+00,\n",
       "            6.7848e+00,  3.7224e+00],\n",
       "          [ 9.9903e-01,  3.1546e+00,  4.9185e+00,  ...,  3.5255e+00,\n",
       "            4.2591e+00,  2.0997e+00]],\n",
       "\n",
       "         ...,\n",
       "\n",
       "         [[-2.3023e+01, -3.1061e+01, -3.1640e+01,  ..., -2.9740e+01,\n",
       "           -2.3042e+01, -1.5119e+01],\n",
       "          [-3.8183e+01, -5.1298e+01, -5.0064e+01,  ..., -3.5598e+01,\n",
       "           -2.9378e+01, -2.1789e+01],\n",
       "          [-4.5102e+01, -6.0240e+01, -5.6402e+01,  ..., -3.1709e+01,\n",
       "           -2.6238e+01, -2.1229e+01],\n",
       "          ...,\n",
       "          [-7.1374e+00, -8.9279e+00, -8.6402e+00,  ..., -5.1243e-01,\n",
       "            1.9488e+00,  7.2744e-01],\n",
       "          [-4.6535e+00, -5.4324e+00, -4.8529e+00,  ...,  2.2454e+00,\n",
       "            3.4115e+00,  1.1648e+00],\n",
       "          [-3.3603e+00, -3.8473e+00, -3.0105e+00,  ...,  1.4687e+00,\n",
       "            2.3102e+00,  5.5956e-01]],\n",
       "\n",
       "         [[-1.8866e+01, -2.7942e+01, -3.1556e+01,  ..., -2.6114e+01,\n",
       "           -2.0824e+01, -1.4444e+01],\n",
       "          [-3.0626e+01, -4.4702e+01, -4.8267e+01,  ..., -3.1537e+01,\n",
       "           -2.5576e+01, -1.9341e+01],\n",
       "          [-3.5787e+01, -5.1077e+01, -5.3262e+01,  ..., -2.8330e+01,\n",
       "           -2.2566e+01, -1.8502e+01],\n",
       "          ...,\n",
       "          [-6.5464e+00, -8.2559e+00, -8.3720e+00,  ..., -2.1310e+00,\n",
       "            2.6943e+00,  2.3637e+00],\n",
       "          [-3.9549e+00, -4.2888e+00, -4.0912e+00,  ...,  1.6354e+00,\n",
       "            3.9985e+00,  2.4678e+00],\n",
       "          [-3.1509e+00, -3.6447e+00, -2.7048e+00,  ...,  2.8581e+00,\n",
       "            4.2332e+00,  1.8933e+00]],\n",
       "\n",
       "         [[-2.2804e-01,  5.5033e-01,  8.8087e-01,  ..., -2.1187e+00,\n",
       "           -9.3378e-01,  1.5842e-01],\n",
       "          [-5.6496e-01,  4.9689e-02,  7.2335e-01,  ..., -2.5629e+00,\n",
       "           -1.6437e-01,  7.6350e-01],\n",
       "          [-8.3153e-01, -2.9800e-01,  3.6928e-01,  ..., -2.6283e+00,\n",
       "            4.9835e-01,  5.7109e-01],\n",
       "          ...,\n",
       "          [-1.3074e-01,  3.9290e-01,  5.9413e-01,  ...,  1.2475e-01,\n",
       "            1.4077e+00,  1.7086e+00],\n",
       "          [ 3.1572e-01,  1.0062e+00,  1.1308e+00,  ...,  8.8354e-01,\n",
       "            2.1377e+00,  1.6277e+00],\n",
       "          [ 1.0434e-01,  7.1869e-01,  8.8081e-01,  ...,  1.1839e+00,\n",
       "            1.6857e+00,  1.2010e+00]]]], grad_fn=<ViewBackward0>), auxiliary_outputs=None, last_hidden_state=tensor([[[-1.7909,  0.2743,  0.6835,  ..., -1.3802, -0.8302, -0.7340],\n",
       "         [-0.6748,  0.2974,  1.8706,  ..., -1.7922, -0.8296, -1.3921],\n",
       "         [-0.9592,  0.1962,  2.0128,  ..., -2.0475, -0.4081, -1.2784],\n",
       "         ...,\n",
       "         [-0.7337, -0.1614,  0.6610,  ..., -1.3533, -0.6581, -1.4725],\n",
       "         [-0.6482, -0.5127,  1.5694,  ..., -2.0376, -0.2294, -2.1865],\n",
       "         [-1.2764,  0.4226,  0.9498,  ..., -1.3415, -1.0462, -0.9817]]],\n",
       "       grad_fn=<NativeLayerNormBackward0>), decoder_hidden_states=None, decoder_attentions=None, cross_attentions=None, encoder_last_hidden_state=tensor([[[-2.7841e-02, -2.6054e-02,  1.2662e-02,  ..., -5.0371e-01,\n",
       "          -7.4539e-01, -1.9851e-01],\n",
       "         [-2.9105e-02, -2.6876e-02, -5.8847e-04,  ...,  5.1940e-02,\n",
       "          -1.0911e-02,  1.6919e-01],\n",
       "         [-5.1294e-02, -5.2680e-02,  2.5063e-02,  ..., -5.2554e-02,\n",
       "           4.9770e-02, -4.0492e-02],\n",
       "         ...,\n",
       "         [ 4.4339e-02, -3.5761e-02,  2.3170e-02,  ...,  7.9641e-02,\n",
       "          -1.7548e-01,  8.6735e-02],\n",
       "         [ 4.2348e-02, -2.5248e-02,  2.5282e-02,  ...,  2.5284e-01,\n",
       "          -6.8542e-02,  4.1176e-02],\n",
       "         [ 4.0338e-02, -4.4013e-02,  3.9146e-02,  ..., -1.7431e-01,\n",
       "          -4.9477e-01, -9.4135e-02]]], grad_fn=<NativeLayerNormBackward0>), encoder_hidden_states=None, encoder_attentions=None)"
      ]
     },
     "execution_count": 14,
     "metadata": {},
     "output_type": "execute_result"
    }
   ],
   "source": [
    "fb_outputs"
   ]
  },
  {
   "cell_type": "code",
   "execution_count": 15,
   "id": "e377c514",
   "metadata": {},
   "outputs": [
    {
     "data": {
      "text/plain": [
       "SemanticSegmenterOutput(loss=None, logits=tensor([[[[-10.5480, -12.6221, -12.7323,  ...,  -6.2110,  -5.9306,  -5.3099],\n",
       "          [-12.7082, -13.7930, -13.7730,  ...,  -6.6113,  -6.2922,  -5.6243],\n",
       "          [-12.4942, -13.5425, -12.6227,  ...,  -6.8111,  -6.5341,  -5.9109],\n",
       "          ...,\n",
       "          [ -8.0755,  -8.8012,  -9.0969,  ..., -10.0277,  -9.9224, -10.0207],\n",
       "          [ -8.4627,  -8.9018,  -8.9743,  ..., -10.3473, -10.4664, -10.3558],\n",
       "          [ -7.6262,  -9.2911,  -9.3678,  ..., -10.3708, -10.4827,  -9.9815]],\n",
       "\n",
       "         [[ -9.1810, -10.9643, -11.3175,  ...,  -6.8570,  -6.5764,  -6.0727],\n",
       "          [-11.1475, -11.9616, -12.0755,  ...,  -7.2152,  -6.9135,  -6.3537],\n",
       "          [-11.0738, -11.9337, -11.2875,  ...,  -7.6201,  -7.2944,  -6.6199],\n",
       "          ...,\n",
       "          [ -5.9197,  -6.5525,  -6.9618,  ...,  -7.1044,  -7.2109,  -7.2809],\n",
       "          [ -6.0980,  -6.4213,  -6.7127,  ...,  -7.3047,  -7.5594,  -7.4512],\n",
       "          [ -5.1734,  -6.7127,  -7.1109,  ...,  -7.2178,  -7.5356,  -7.0070]],\n",
       "\n",
       "         [[ -6.4378,  -7.9381,  -8.2461,  ...,  -2.9531,  -2.9291,  -2.5619],\n",
       "          [ -8.4926,  -9.8610, -10.1780,  ...,  -4.0052,  -3.8006,  -3.8517],\n",
       "          [ -8.4529,  -9.9658,  -8.5560,  ...,  -3.9632,  -3.7632,  -3.8637],\n",
       "          ...,\n",
       "          [ -5.5724,  -6.4205,  -6.7051,  ...,  -6.5199,  -6.4350,  -7.1869],\n",
       "          [ -5.4080,  -6.2793,  -6.2888,  ...,  -6.9399,  -6.9030,  -7.5205],\n",
       "          [ -4.4186,  -6.7839,  -6.9957,  ...,  -7.3693,  -7.1861,  -7.7305]],\n",
       "\n",
       "         ...,\n",
       "\n",
       "         [[-22.1788, -25.8181, -25.6896,  ..., -22.0176, -21.6128, -20.7099],\n",
       "          [-25.6283, -27.5615, -27.1267,  ..., -23.0623, -22.3968, -21.7847],\n",
       "          [-25.8521, -27.6624, -25.6102,  ..., -23.2099, -22.6105, -21.8130],\n",
       "          ...,\n",
       "          [-20.7227, -21.8634, -22.2870,  ..., -24.1772, -23.7132, -24.3046],\n",
       "          [-20.5533, -21.7144, -21.5735,  ..., -24.8917, -24.4787, -24.6412],\n",
       "          [-18.7281, -22.7685, -22.3664,  ..., -24.8424, -24.4098, -23.9639]],\n",
       "\n",
       "         [[-17.6606, -21.1836, -21.0644,  ..., -15.9557, -15.5169, -13.9779],\n",
       "          [-21.6085, -22.9477, -22.6919,  ..., -17.2378, -16.8192, -15.9380],\n",
       "          [-21.4742, -22.6134, -21.0006,  ..., -17.5381, -17.2971, -16.4477],\n",
       "          ...,\n",
       "          [-17.2540, -18.4847, -19.1755,  ..., -17.6335, -17.7625, -18.4000],\n",
       "          [-17.3168, -18.3630, -18.5651,  ..., -18.2220, -18.5788, -18.8310],\n",
       "          [-14.8077, -19.2529, -19.2596,  ..., -18.2937, -18.4930, -18.0810]],\n",
       "\n",
       "         [[-15.0894, -18.3016, -18.3738,  ..., -17.1559, -17.1755, -15.8603],\n",
       "          [-18.2205, -19.5437, -19.5974,  ..., -18.3111, -18.1253, -16.9228],\n",
       "          [-18.4831, -19.6325, -18.5030,  ..., -18.7628, -18.6904, -17.5857],\n",
       "          ...,\n",
       "          [-16.6696, -17.7889, -18.8151,  ..., -19.6946, -19.2980, -19.9380],\n",
       "          [-16.6988, -17.4005, -18.0498,  ..., -20.1873, -20.1017, -20.4105],\n",
       "          [-14.6188, -18.3565, -18.7965,  ..., -20.2756, -20.1001, -20.0799]]]],\n",
       "       grad_fn=<ConvolutionBackward0>), hidden_states=None, attentions=None)"
      ]
     },
     "execution_count": 15,
     "metadata": {},
     "output_type": "execute_result"
    }
   ],
   "source": [
    "nv_outputs"
   ]
  },
  {
   "cell_type": "code",
   "execution_count": 16,
   "id": "965afb4f",
   "metadata": {},
   "outputs": [
    {
     "data": {
      "text/plain": [
       "SemanticSegmenterOutput(loss=None, logits=tensor([[[[ -3.6521,  -1.3131,  -2.1426,  ...,  -2.0119,  -1.1952,  -3.4079],\n",
       "          [ -1.9077,  -0.5096,  -1.1798,  ...,  -1.1478,  -0.3056,  -1.7560],\n",
       "          [ -2.6581,  -1.2200,  -2.2376,  ...,  -2.0488,  -0.8618,  -2.4059],\n",
       "          ...,\n",
       "          [ -1.7008,  -0.0982,  -0.7208,  ...,  -1.0134,  -0.0625,  -1.3286],\n",
       "          [ -1.3140,   0.3414,  -0.2406,  ...,  -0.5123,   0.2421,  -1.0596],\n",
       "          [ -3.6965,  -1.5699,  -1.9384,  ...,  -2.3739,  -1.5314,  -3.5456]],\n",
       "\n",
       "         [[ -4.8837,  -2.2391,  -2.5257,  ...,  -2.6901,  -1.9624,  -4.3119],\n",
       "          [ -2.4982,  -0.6213,  -1.0303,  ...,  -0.9772,  -0.5147,  -2.3991],\n",
       "          [ -3.1403,  -1.4019,  -1.7880,  ...,  -1.9181,  -1.0317,  -2.9218],\n",
       "          ...,\n",
       "          [ -2.5165,  -0.9667,  -1.3961,  ...,  -1.4021,  -1.0628,  -2.7311],\n",
       "          [ -2.1753,  -0.6804,  -0.9297,  ...,  -1.0812,  -0.6380,  -2.3422],\n",
       "          [ -4.6470,  -2.4069,  -2.7500,  ...,  -2.8537,  -2.3330,  -5.0704]],\n",
       "\n",
       "         [[ -4.2472,  -2.0482,  -2.4331,  ...,  -2.9743,  -2.0137,  -4.4136],\n",
       "          [ -2.9586,  -1.7633,  -2.1838,  ...,  -3.0703,  -2.0867,  -3.4345],\n",
       "          [ -3.9543,  -3.0015,  -3.6938,  ...,  -4.7217,  -3.3511,  -4.3670],\n",
       "          ...,\n",
       "          [ -3.6710,  -2.5402,  -3.0803,  ...,  -3.4861,  -2.5514,  -3.8364],\n",
       "          [ -3.3650,  -2.2912,  -2.8093,  ...,  -3.2794,  -2.4644,  -3.4874],\n",
       "          [ -6.5039,  -4.0120,  -4.5689,  ...,  -4.8610,  -4.3792,  -6.5399]],\n",
       "\n",
       "         ...,\n",
       "\n",
       "         [[-10.3432,  -7.4287,  -7.1368,  ...,  -7.5904,  -6.8799, -10.2934],\n",
       "          [ -6.8504,  -5.0823,  -4.9374,  ...,  -5.4250,  -4.7136,  -7.3301],\n",
       "          [ -7.6234,  -6.0384,  -6.1144,  ...,  -6.5088,  -5.6193,  -7.8186],\n",
       "          ...,\n",
       "          [ -7.3581,  -5.8275,  -5.8934,  ...,  -6.3131,  -5.6045,  -8.1346],\n",
       "          [ -7.2696,  -5.9075,  -6.0340,  ...,  -6.5154,  -5.7086,  -7.8645],\n",
       "          [-10.2367,  -7.5571,  -7.8438,  ...,  -8.0810,  -7.3012, -10.4429]],\n",
       "\n",
       "         [[-10.1686,  -7.4172,  -7.1672,  ...,  -7.5068,  -6.5829, -10.2699],\n",
       "          [ -7.1433,  -5.1995,  -5.2329,  ...,  -5.6875,  -4.9057,  -7.8818],\n",
       "          [ -7.8935,  -6.1799,  -6.5962,  ...,  -6.9256,  -5.9999,  -8.5587],\n",
       "          ...,\n",
       "          [ -7.9637,  -6.3407,  -6.6984,  ...,  -6.8731,  -6.1632,  -9.0276],\n",
       "          [ -7.9368,  -6.6799,  -7.1328,  ...,  -7.3626,  -6.6255,  -9.0241],\n",
       "          [-11.1027,  -8.7411,  -9.3950,  ...,  -9.4468,  -8.6813, -11.2208]],\n",
       "\n",
       "         [[ -9.7993,  -6.6266,  -6.5503,  ...,  -7.3434,  -6.5481,  -9.5948],\n",
       "          [ -6.3755,  -4.7561,  -4.9891,  ...,  -5.7715,  -4.8161,  -6.8936],\n",
       "          [ -7.0378,  -5.7540,  -6.2752,  ...,  -7.1407,  -5.8236,  -7.5962],\n",
       "          ...,\n",
       "          [ -6.7316,  -5.4310,  -5.8429,  ...,  -6.3355,  -5.5647,  -7.5291],\n",
       "          [ -6.6206,  -5.6101,  -6.0111,  ...,  -6.4681,  -5.7972,  -7.2531],\n",
       "          [-10.0639,  -7.6746,  -8.1681,  ...,  -8.3294,  -7.6003, -10.0852]]]],\n",
       "       grad_fn=<ConvolutionBackward0>), hidden_states=None, attentions=None)"
      ]
     },
     "execution_count": 16,
     "metadata": {},
     "output_type": "execute_result"
    }
   ],
   "source": [
    "ms_outputs"
   ]
  }
 ],
 "metadata": {
  "kernelspec": {
   "display_name": "Python 3 (ipykernel)",
   "language": "python",
   "name": "python3"
  },
  "language_info": {
   "codemirror_mode": {
    "name": "ipython",
    "version": 3
   },
   "file_extension": ".py",
   "mimetype": "text/x-python",
   "name": "python",
   "nbconvert_exporter": "python",
   "pygments_lexer": "ipython3",
   "version": "3.9.15"
  }
 },
 "nbformat": 4,
 "nbformat_minor": 5
}
